{
  "cells": [
    {
      "cell_type": "markdown",
      "metadata": {
        "id": "view-in-github",
        "colab_type": "text"
      },
      "source": [
        "<a href=\"https://colab.research.google.com/github/b-ukusi/cystellaai/blob/main/cystella.ipynb\" target=\"_parent\"><img src=\"https://colab.research.google.com/assets/colab-badge.svg\" alt=\"Open In Colab\"/></a>"
      ]
    },
    {
      "cell_type": "code",
      "execution_count": 10,
      "metadata": {
        "colab": {
          "base_uri": "https://localhost:8080/",
          "height": 1000,
          "referenced_widgets": [
            "0fff26e3d99d4894b5defe30cd2b0bf1",
            "9f459003d9e94d6a882cae9396215b90",
            "428503b3db6e4716888919cffb0b07db",
            "8510735e5e0d44a3bb049584ad6e46e4",
            "d15a505e76b64aec871331538d290ffb",
            "ed867e8471674f77bb74f7dc332e83ae",
            "ba941cbf428b4b53af2815601ccea752",
            "8da3684bae084d158dcc1689a0246bdb",
            "c7954a09daf94010b3baea2a92e10daa",
            "9e4c91bf464c4ad6b32841008e4261df",
            "32ca033074ad46f5a3e1f222404162f5",
            "d41cdd55b08c4a63874eedc8ba68d6b0",
            "4c5e1ae08730450286b93a21072e9b8d",
            "2ad64e20e0d84bb999609478885a7a4a",
            "084755db0a4844679e9f683dc9dd4f3f",
            "acb995b9e914469b8d64b0fb32000676",
            "8f532164b259481fafc8c1ac303a41be",
            "cefad2c98cc9412b9c14f6c727f74dfc"
          ]
        },
        "id": "PLVZU3QaUfIq",
        "outputId": "4c5466be-3d40-4d85-bbf5-f6ec1e1f73a4"
      },
      "outputs": [
        {
          "output_type": "stream",
          "name": "stdout",
          "text": [
            "Requirement already satisfied: pip in /usr/local/lib/python3.11/dist-packages (25.1.1)\n",
            "Requirement already satisfied: setuptools in /usr/local/lib/python3.11/dist-packages (80.9.0)\n",
            "Requirement already satisfied: wheel in /usr/local/lib/python3.11/dist-packages (0.45.1)\n",
            "Files removed: 98 (38.9 MB)\n",
            "\u001b[2K     \u001b[90m━━━━━━━━━━━━━━━━━━━━━━━━━━━━━━━━━━━━━━━━\u001b[0m \u001b[32m25.2/25.2 MB\u001b[0m \u001b[31m91.9 MB/s\u001b[0m eta \u001b[36m0:00:00\u001b[0m\n",
            "\u001b[?25h  \u001b[1;31merror\u001b[0m: \u001b[1msubprocess-exited-with-error\u001b[0m\n",
            "  \n",
            "  \u001b[31m×\u001b[0m \u001b[32mpip subprocess to install build dependencies\u001b[0m did not run successfully.\n",
            "  \u001b[31m│\u001b[0m exit code: \u001b[1;36m1\u001b[0m\n",
            "  \u001b[31m╰─>\u001b[0m See above for output.\n",
            "  \n",
            "  \u001b[1;35mnote\u001b[0m: This error originates from a subprocess, and is likely not a problem with pip.\n",
            "  Installing build dependencies ... \u001b[?25l\u001b[?25herror\n",
            "\u001b[1;31merror\u001b[0m: \u001b[1msubprocess-exited-with-error\u001b[0m\n",
            "\n",
            "\u001b[31m×\u001b[0m \u001b[32mpip subprocess to install build dependencies\u001b[0m did not run successfully.\n",
            "\u001b[31m│\u001b[0m exit code: \u001b[1;36m1\u001b[0m\n",
            "\u001b[31m╰─>\u001b[0m See above for output.\n",
            "\n",
            "\u001b[1;35mnote\u001b[0m: This error originates from a subprocess, and is likely not a problem with pip.\n"
          ]
        },
        {
          "output_type": "display_data",
          "data": {
            "text/plain": [
              "<IPython.core.display.HTML object>"
            ],
            "text/html": [
              "\n",
              "     <input type=\"file\" id=\"files-77acc1a4-b669-4160-8f7e-ba8ba5171e50\" name=\"files[]\" multiple disabled\n",
              "        style=\"border:none\" />\n",
              "     <output id=\"result-77acc1a4-b669-4160-8f7e-ba8ba5171e50\">\n",
              "      Upload widget is only available when the cell has been executed in the\n",
              "      current browser session. Please rerun this cell to enable.\n",
              "      </output>\n",
              "      <script>// Copyright 2017 Google LLC\n",
              "//\n",
              "// Licensed under the Apache License, Version 2.0 (the \"License\");\n",
              "// you may not use this file except in compliance with the License.\n",
              "// You may obtain a copy of the License at\n",
              "//\n",
              "//      http://www.apache.org/licenses/LICENSE-2.0\n",
              "//\n",
              "// Unless required by applicable law or agreed to in writing, software\n",
              "// distributed under the License is distributed on an \"AS IS\" BASIS,\n",
              "// WITHOUT WARRANTIES OR CONDITIONS OF ANY KIND, either express or implied.\n",
              "// See the License for the specific language governing permissions and\n",
              "// limitations under the License.\n",
              "\n",
              "/**\n",
              " * @fileoverview Helpers for google.colab Python module.\n",
              " */\n",
              "(function(scope) {\n",
              "function span(text, styleAttributes = {}) {\n",
              "  const element = document.createElement('span');\n",
              "  element.textContent = text;\n",
              "  for (const key of Object.keys(styleAttributes)) {\n",
              "    element.style[key] = styleAttributes[key];\n",
              "  }\n",
              "  return element;\n",
              "}\n",
              "\n",
              "// Max number of bytes which will be uploaded at a time.\n",
              "const MAX_PAYLOAD_SIZE = 100 * 1024;\n",
              "\n",
              "function _uploadFiles(inputId, outputId) {\n",
              "  const steps = uploadFilesStep(inputId, outputId);\n",
              "  const outputElement = document.getElementById(outputId);\n",
              "  // Cache steps on the outputElement to make it available for the next call\n",
              "  // to uploadFilesContinue from Python.\n",
              "  outputElement.steps = steps;\n",
              "\n",
              "  return _uploadFilesContinue(outputId);\n",
              "}\n",
              "\n",
              "// This is roughly an async generator (not supported in the browser yet),\n",
              "// where there are multiple asynchronous steps and the Python side is going\n",
              "// to poll for completion of each step.\n",
              "// This uses a Promise to block the python side on completion of each step,\n",
              "// then passes the result of the previous step as the input to the next step.\n",
              "function _uploadFilesContinue(outputId) {\n",
              "  const outputElement = document.getElementById(outputId);\n",
              "  const steps = outputElement.steps;\n",
              "\n",
              "  const next = steps.next(outputElement.lastPromiseValue);\n",
              "  return Promise.resolve(next.value.promise).then((value) => {\n",
              "    // Cache the last promise value to make it available to the next\n",
              "    // step of the generator.\n",
              "    outputElement.lastPromiseValue = value;\n",
              "    return next.value.response;\n",
              "  });\n",
              "}\n",
              "\n",
              "/**\n",
              " * Generator function which is called between each async step of the upload\n",
              " * process.\n",
              " * @param {string} inputId Element ID of the input file picker element.\n",
              " * @param {string} outputId Element ID of the output display.\n",
              " * @return {!Iterable<!Object>} Iterable of next steps.\n",
              " */\n",
              "function* uploadFilesStep(inputId, outputId) {\n",
              "  const inputElement = document.getElementById(inputId);\n",
              "  inputElement.disabled = false;\n",
              "\n",
              "  const outputElement = document.getElementById(outputId);\n",
              "  outputElement.innerHTML = '';\n",
              "\n",
              "  const pickedPromise = new Promise((resolve) => {\n",
              "    inputElement.addEventListener('change', (e) => {\n",
              "      resolve(e.target.files);\n",
              "    });\n",
              "  });\n",
              "\n",
              "  const cancel = document.createElement('button');\n",
              "  inputElement.parentElement.appendChild(cancel);\n",
              "  cancel.textContent = 'Cancel upload';\n",
              "  const cancelPromise = new Promise((resolve) => {\n",
              "    cancel.onclick = () => {\n",
              "      resolve(null);\n",
              "    };\n",
              "  });\n",
              "\n",
              "  // Wait for the user to pick the files.\n",
              "  const files = yield {\n",
              "    promise: Promise.race([pickedPromise, cancelPromise]),\n",
              "    response: {\n",
              "      action: 'starting',\n",
              "    }\n",
              "  };\n",
              "\n",
              "  cancel.remove();\n",
              "\n",
              "  // Disable the input element since further picks are not allowed.\n",
              "  inputElement.disabled = true;\n",
              "\n",
              "  if (!files) {\n",
              "    return {\n",
              "      response: {\n",
              "        action: 'complete',\n",
              "      }\n",
              "    };\n",
              "  }\n",
              "\n",
              "  for (const file of files) {\n",
              "    const li = document.createElement('li');\n",
              "    li.append(span(file.name, {fontWeight: 'bold'}));\n",
              "    li.append(span(\n",
              "        `(${file.type || 'n/a'}) - ${file.size} bytes, ` +\n",
              "        `last modified: ${\n",
              "            file.lastModifiedDate ? file.lastModifiedDate.toLocaleDateString() :\n",
              "                                    'n/a'} - `));\n",
              "    const percent = span('0% done');\n",
              "    li.appendChild(percent);\n",
              "\n",
              "    outputElement.appendChild(li);\n",
              "\n",
              "    const fileDataPromise = new Promise((resolve) => {\n",
              "      const reader = new FileReader();\n",
              "      reader.onload = (e) => {\n",
              "        resolve(e.target.result);\n",
              "      };\n",
              "      reader.readAsArrayBuffer(file);\n",
              "    });\n",
              "    // Wait for the data to be ready.\n",
              "    let fileData = yield {\n",
              "      promise: fileDataPromise,\n",
              "      response: {\n",
              "        action: 'continue',\n",
              "      }\n",
              "    };\n",
              "\n",
              "    // Use a chunked sending to avoid message size limits. See b/62115660.\n",
              "    let position = 0;\n",
              "    do {\n",
              "      const length = Math.min(fileData.byteLength - position, MAX_PAYLOAD_SIZE);\n",
              "      const chunk = new Uint8Array(fileData, position, length);\n",
              "      position += length;\n",
              "\n",
              "      const base64 = btoa(String.fromCharCode.apply(null, chunk));\n",
              "      yield {\n",
              "        response: {\n",
              "          action: 'append',\n",
              "          file: file.name,\n",
              "          data: base64,\n",
              "        },\n",
              "      };\n",
              "\n",
              "      let percentDone = fileData.byteLength === 0 ?\n",
              "          100 :\n",
              "          Math.round((position / fileData.byteLength) * 100);\n",
              "      percent.textContent = `${percentDone}% done`;\n",
              "\n",
              "    } while (position < fileData.byteLength);\n",
              "  }\n",
              "\n",
              "  // All done.\n",
              "  yield {\n",
              "    response: {\n",
              "      action: 'complete',\n",
              "    }\n",
              "  };\n",
              "}\n",
              "\n",
              "scope.google = scope.google || {};\n",
              "scope.google.colab = scope.google.colab || {};\n",
              "scope.google.colab._files = {\n",
              "  _uploadFiles,\n",
              "  _uploadFilesContinue,\n",
              "};\n",
              "})(self);\n",
              "</script> "
            ]
          },
          "metadata": {}
        },
        {
          "output_type": "stream",
          "name": "stdout",
          "text": [
            "Saving cyst test.csv to cyst test (1).csv\n",
            "✅ Columns detected: ['Patient ID', 'Age', 'Menopause Status', 'Cyst Size cm', 'Cyst Growth Rate cm/month', 'CA 125 Level', 'Ultrasound Features', 'Reported Symptoms', 'Recommended Management', 'Date of Exam', 'Region', 'Unnamed: 11', 'Unnamed: 12', 'Unnamed: 13', 'Unnamed: 14', 'Unnamed: 15', 'Unnamed: 16', 'Unnamed: 17', 'Unnamed: 18', 'Unnamed: 19', 'Unnamed: 20', 'Unnamed: 21', 'Unnamed: 22', 'Unnamed: 23', 'Unnamed: 24', 'Unnamed: 25']\n",
            "✅ Columns after renaming: ['Patient ID', 'Age', 'Menopause Status', 'Cyst Size cm', 'Cyst Growth Rate cm/month', 'CA 125 Level', 'Ultrasound Features', 'Reported Symptoms', 'Recommended Management', 'Date of Exam', 'Region', 'Unnamed: 11', 'Unnamed: 12', 'Unnamed: 13', 'Unnamed: 14', 'Unnamed: 15', 'Unnamed: 16', 'Unnamed: 17', 'Unnamed: 18', 'Unnamed: 19', 'Unnamed: 20', 'Unnamed: 21', 'Unnamed: 22', 'Unnamed: 23', 'Unnamed: 24', 'Unnamed: 25']\n",
            "✅ Data after dropna (on ['Patient ID', 'Recommended Management', 'Age', 'Cyst Size cm']): 71 rows\n"
          ]
        },
        {
          "output_type": "display_data",
          "data": {
            "text/plain": [
              "<Figure size 800x550 with 1 Axes>"
            ],
            "image/png": "[encoded data removed]"
          },
          "metadata": {}
        },
        {
          "output_type": "stream",
          "name": "stdout",
          "text": [
            "Numerical features: ['Age', 'Cyst Size cm', 'CA 125 Level']\n",
            "Categorical features: ['Cyst Growth Rate cm/month', 'Ultrasound Features', 'Reported Symptoms']\n"
          ]
        },
        {
          "output_type": "display_data",
          "data": {
            "text/plain": [
              "<IPython.core.display.HTML object>"
            ],
            "text/html": []
          },
          "metadata": {}
        },
        {
          "output_type": "display_data",
          "data": {
            "text/plain": [
              "<pandas.io.formats.style.Styler at 0x7c0535747d50>"
            ],
            "text/html": [
              "<style type=\"text/css\">\n",
              "#T_a5a86 th {\n",
              "  text-align: left;\n",
              "}\n",
              "#T_a5a86_row0_col0, #T_a5a86_row0_col4, #T_a5a86_row1_col0, #T_a5a86_row1_col1, #T_a5a86_row1_col2, #T_a5a86_row1_col3, #T_a5a86_row1_col5, #T_a5a86_row1_col6, #T_a5a86_row1_col7 {\n",
              "  text-align: left;\n",
              "}\n",
              "#T_a5a86_row0_col1, #T_a5a86_row0_col2, #T_a5a86_row0_col3, #T_a5a86_row0_col5, #T_a5a86_row0_col6, #T_a5a86_row0_col7, #T_a5a86_row1_col4 {\n",
              "  text-align: left;\n",
              "  background-color: yellow;\n",
              "}\n",
              "#T_a5a86_row0_col8 {\n",
              "  text-align: left;\n",
              "  background-color: yellow;\n",
              "  background-color: lightgrey;\n",
              "}\n",
              "#T_a5a86_row1_col8 {\n",
              "  text-align: left;\n",
              "  background-color: lightgrey;\n",
              "}\n",
              "</style>\n",
              "<table id=\"T_a5a86\" class=\"dataframe\">\n",
              "  <thead>\n",
              "    <tr>\n",
              "      <th class=\"blank level0\" >&nbsp;</th>\n",
              "      <th id=\"T_a5a86_level0_col0\" class=\"col_heading level0 col0\" >Model</th>\n",
              "      <th id=\"T_a5a86_level0_col1\" class=\"col_heading level0 col1\" >Accuracy</th>\n",
              "      <th id=\"T_a5a86_level0_col2\" class=\"col_heading level0 col2\" >AUC</th>\n",
              "      <th id=\"T_a5a86_level0_col3\" class=\"col_heading level0 col3\" >Recall</th>\n",
              "      <th id=\"T_a5a86_level0_col4\" class=\"col_heading level0 col4\" >Prec.</th>\n",
              "      <th id=\"T_a5a86_level0_col5\" class=\"col_heading level0 col5\" >F1</th>\n",
              "      <th id=\"T_a5a86_level0_col6\" class=\"col_heading level0 col6\" >Kappa</th>\n",
              "      <th id=\"T_a5a86_level0_col7\" class=\"col_heading level0 col7\" >MCC</th>\n",
              "      <th id=\"T_a5a86_level0_col8\" class=\"col_heading level0 col8\" >TT (Sec)</th>\n",
              "    </tr>\n",
              "  </thead>\n",
              "  <tbody>\n",
              "    <tr>\n",
              "      <th id=\"T_a5a86_level0_row0\" class=\"row_heading level0 row0\" >dummy</th>\n",
              "      <td id=\"T_a5a86_row0_col0\" class=\"data row0 col0\" >Dummy Classifier</td>\n",
              "      <td id=\"T_a5a86_row0_col1\" class=\"data row0 col1\" >0.2800</td>\n",
              "      <td id=\"T_a5a86_row0_col2\" class=\"data row0 col2\" >0.5000</td>\n",
              "      <td id=\"T_a5a86_row0_col3\" class=\"data row0 col3\" >0.2800</td>\n",
              "      <td id=\"T_a5a86_row0_col4\" class=\"data row0 col4\" >0.0827</td>\n",
              "      <td id=\"T_a5a86_row0_col5\" class=\"data row0 col5\" >0.1267</td>\n",
              "      <td id=\"T_a5a86_row0_col6\" class=\"data row0 col6\" >0.0000</td>\n",
              "      <td id=\"T_a5a86_row0_col7\" class=\"data row0 col7\" >0.0000</td>\n",
              "      <td id=\"T_a5a86_row0_col8\" class=\"data row0 col8\" >0.1310</td>\n",
              "    </tr>\n",
              "    <tr>\n",
              "      <th id=\"T_a5a86_level0_row1\" class=\"row_heading level0 row1\" >lightgbm</th>\n",
              "      <td id=\"T_a5a86_row1_col0\" class=\"data row1 col0\" >Light Gradient Boosting Machine</td>\n",
              "      <td id=\"T_a5a86_row1_col1\" class=\"data row1 col1\" >0.1667</td>\n",
              "      <td id=\"T_a5a86_row1_col2\" class=\"data row1 col2\" >0.4583</td>\n",
              "      <td id=\"T_a5a86_row1_col3\" class=\"data row1 col3\" >0.1667</td>\n",
              "      <td id=\"T_a5a86_row1_col4\" class=\"data row1 col4\" >0.0997</td>\n",
              "      <td id=\"T_a5a86_row1_col5\" class=\"data row1 col5\" >0.1187</td>\n",
              "      <td id=\"T_a5a86_row1_col6\" class=\"data row1 col6\" >-0.1094</td>\n",
              "      <td id=\"T_a5a86_row1_col7\" class=\"data row1 col7\" >-0.1286</td>\n",
              "      <td id=\"T_a5a86_row1_col8\" class=\"data row1 col8\" >0.2830</td>\n",
              "    </tr>\n",
              "  </tbody>\n",
              "</table>\n"
            ]
          },
          "metadata": {}
        },
        {
          "output_type": "display_data",
          "data": {
            "text/plain": [
              "Processing:   0%|          | 0/65 [00:00<?, ?it/s]"
            ],
            "application/vnd.jupyter.widget-view+json": {
              "version_major": 2,
              "version_minor": 0,
              "model_id": "0fff26e3d99d4894b5defe30cd2b0bf1"
            }
          },
          "metadata": {
            "application/vnd.jupyter.widget-view+json": {
              "colab": {
                "custom_widget_manager": {
                  "url": "https://ssl.gstatic.com/colaboratory-static/widgets/colab-cdn-widget-manager/2b70e893a8ba7c0f/manager.min.js"
                }
              }
            }
          }
        },
        {
          "output_type": "display_data",
          "data": {
            "text/plain": [
              "<IPython.core.display.HTML object>"
            ],
            "text/html": []
          },
          "metadata": {}
        },
        {
          "output_type": "display_data",
          "data": {
            "text/plain": [
              "interactive(children=(ToggleButtons(description='Plot Type:', icons=('',), options=(('Pipeline Plot', 'pipelin…"
            ],
            "application/vnd.jupyter.widget-view+json": {
              "version_major": 2,
              "version_minor": 0,
              "model_id": "cefad2c98cc9412b9c14f6c727f74dfc"
            }
          },
          "metadata": {
            "application/vnd.jupyter.widget-view+json": {
              "colab": {
                "custom_widget_manager": {
                  "url": "https://ssl.gstatic.com/colaboratory-static/widgets/colab-cdn-widget-manager/2b70e893a8ba7c0f/manager.min.js"
                }
              }
            }
          }
        },
        {
          "output_type": "display_data",
          "data": {
            "text/plain": [
              "<pandas.io.formats.style.Styler at 0x7c0535739f10>"
            ],
            "text/html": [
              "<style type=\"text/css\">\n",
              "</style>\n",
              "<table id=\"T_39b8f\" class=\"dataframe\">\n",
              "  <thead>\n",
              "    <tr>\n",
              "      <th class=\"blank level0\" >&nbsp;</th>\n",
              "      <th id=\"T_39b8f_level0_col0\" class=\"col_heading level0 col0\" >Model</th>\n",
              "      <th id=\"T_39b8f_level0_col1\" class=\"col_heading level0 col1\" >Accuracy</th>\n",
              "      <th id=\"T_39b8f_level0_col2\" class=\"col_heading level0 col2\" >AUC</th>\n",
              "      <th id=\"T_39b8f_level0_col3\" class=\"col_heading level0 col3\" >Recall</th>\n",
              "      <th id=\"T_39b8f_level0_col4\" class=\"col_heading level0 col4\" >Prec.</th>\n",
              "      <th id=\"T_39b8f_level0_col5\" class=\"col_heading level0 col5\" >F1</th>\n",
              "      <th id=\"T_39b8f_level0_col6\" class=\"col_heading level0 col6\" >Kappa</th>\n",
              "      <th id=\"T_39b8f_level0_col7\" class=\"col_heading level0 col7\" >MCC</th>\n",
              "    </tr>\n",
              "  </thead>\n",
              "  <tbody>\n",
              "    <tr>\n",
              "      <th id=\"T_39b8f_level0_row0\" class=\"row_heading level0 row0\" >0</th>\n",
              "      <td id=\"T_39b8f_row0_col0\" class=\"data row0 col0\" >Dummy Classifier</td>\n",
              "      <td id=\"T_39b8f_row0_col1\" class=\"data row0 col1\" >0.2667</td>\n",
              "      <td id=\"T_39b8f_row0_col2\" class=\"data row0 col2\" >0</td>\n",
              "      <td id=\"T_39b8f_row0_col3\" class=\"data row0 col3\" >0.2667</td>\n",
              "      <td id=\"T_39b8f_row0_col4\" class=\"data row0 col4\" >0.0711</td>\n",
              "      <td id=\"T_39b8f_row0_col5\" class=\"data row0 col5\" >0.1123</td>\n",
              "      <td id=\"T_39b8f_row0_col6\" class=\"data row0 col6\" >0.0000</td>\n",
              "      <td id=\"T_39b8f_row0_col7\" class=\"data row0 col7\" >0.0000</td>\n",
              "    </tr>\n",
              "  </tbody>\n",
              "</table>\n"
            ]
          },
          "metadata": {}
        },
        {
          "output_type": "stream",
          "name": "stdout",
          "text": [
            "\n",
            "📋 Top 10 patients by risk:\n",
            "Patient ID  prediction_score prediction_label\n",
            "   OC-1090            0.2817      Observation\n",
            "   OC-1098            0.2817      Observation\n",
            "   OC-1086            0.2817      Observation\n",
            "   OC-1044            0.2817      Observation\n",
            "   OC-1048            0.2817      Observation\n",
            "   OC-1065            0.2817      Observation\n",
            "   OC-1061            0.2817      Observation\n",
            "   OC-1031            0.2817      Observation\n",
            "   OC-1079            0.2817      Observation\n",
            "   OC-1070            0.2817      Observation\n",
            "Transformation Pipeline and Model Successfully Saved\n",
            "✅ Model saved: cyst_predictor_model.pkl\n"
          ]
        }
      ],
      "source": [
        "# 1. Install & import (upgrade build tools first)\n",
        "!pip install --upgrade pip setuptools wheel\n",
        "!pip cache purge\n",
        "!pip install -U --pre pycaret pandas==2.2.2 \"numpy<2.0\" matplotlib seaborn scikit-learn -q\n",
        "\n",
        "import pandas as pd\n",
        "import numpy as np\n",
        "from pycaret.classification import *\n",
        "import matplotlib.pyplot as plt\n",
        "import seaborn as sns\n",
        "from google.colab import files\n",
        "\n",
        "# 2. Upload CSV and load dataframe\n",
        "uploaded = files.upload()\n",
        "import io\n",
        "fname = next(iter(uploaded))\n",
        "df = pd.read_csv('https://raw.githubusercontent.com/b-ukusi/datasets/refs/heads/main/Ovarian%20Cyst%20Track%20Data.csv')\n",
        "\n",
        "# 3. Inspect column names\n",
        "cols = df.columns.str.strip().tolist()\n",
        "print(\"✅ Columns detected:\", cols)\n",
        "\n",
        "# 4. Define a dictionary to map your desired variables to actual column names\n",
        "#    Update the RHS values based on your CSV headers\n",
        "col_map = {\n",
        "    'patient_id': 'Patient ID',      # identifier column\n",
        "    'label': 'Recommended Management',\n",
        "    'age': 'Age',\n",
        "    'size': 'Cyst Size cm',\n",
        "    'growth_trend': 'Cyst Growth Rate cm/month',\n",
        "    'texture': 'Ultrasound Features',\n",
        "    'pain': 'Reported Symptoms',\n",
        "    'location': 'Location',\n",
        "    'wbc': 'WBC',\n",
        "    'ca125': 'CA 125 Level'\n",
        "}\n",
        "\n",
        "# 5. Check which mapped columns exist and rename\n",
        "used_map = {k: v for k, v in col_map.items() if v in cols}\n",
        "df = df.rename(columns=used_map)\n",
        "print(\"✅ Columns after renaming:\", df.columns.tolist())\n",
        "\n",
        "# 6. Define feature lists dynamically\n",
        "required_cols = [col_map['patient_id'], col_map['label'], col_map['age'], col_map['size']]\n",
        "required_cols = [c for c in required_cols if c in df.columns]\n",
        "\n",
        "# Drop rows missing essential features\n",
        "df = df.dropna(subset=required_cols)\n",
        "print(f\"✅ Data after dropna (on {required_cols}): {len(df)} rows\")\n",
        "\n",
        "# 7. Generate clean CSV if needed (without automatic download)\n",
        "clean_cols = required_cols + [col_map[k] for k in ['growth_trend','texture','pain','location','wbc','ca125'] if col_map[k] in df.columns]\n",
        "df_clean = df[clean_cols]\n",
        "# df_clean.to_csv('cyst_clean_sample.csv', index=False)  # Uncomment if needed\n",
        "\n",
        "# 8. Convert categorical columns if present\n",
        "for var in ['growth_trend','texture','pain','location']:\n",
        "    if col_map[var] in df.columns:\n",
        "        df[col_map[var]] = df[col_map[var]].astype('category')\n",
        "\n",
        "# 9. EDA\n",
        "if col_map['label'] in df.columns:\n",
        "    sns.countplot(x=col_map['label'], data=df)\n",
        "    plt.title('Label Distribution')\n",
        "    plt.show()\n",
        "\n",
        "# 10. Prepare feature lists for PyCaret\n",
        "num_feats = [col_map[k] for k in ['age','size','wbc','ca125'] if col_map[k] in df.columns]\n",
        "cat_feats = [col_map[k] for k in ['growth_trend','texture','pain','location'] if col_map[k] in df.columns]\n",
        "print(\"Numerical features:\", num_feats)\n",
        "print(\"Categorical features:\", cat_feats)\n",
        "\n",
        "# 11. Setup and run PyCaret\n",
        "exp = setup(\n",
        "    data=df,\n",
        "    target=col_map['label'],\n",
        "    numeric_features=num_feats,\n",
        "    categorical_features=cat_feats,\n",
        "    session_id=123,\n",
        "    train_size=0.8,\n",
        "    data_split_stratify=True,\n",
        "    verbose=False\n",
        ")\n",
        "best = compare_models()\n",
        "final = finalize_model(best)\n",
        "evaluate_model(final)\n",
        "\n",
        "# 12. Predict and rank by risk\n",
        "X_test = get_config('X_test')\n",
        "y_test = get_config('y_test')\n",
        "test_df = X_test.copy()\n",
        "test_df[col_map['label']] = y_test\n",
        "\n",
        "preds = predict_model(final, data=test_df)\n",
        "preds_sorted = preds.sort_values(by='prediction_score', ascending=False)\n",
        "\n",
        "# Display top 10 by risk\n",
        "display_cols = []\n",
        "if col_map['patient_id'] in preds_sorted.columns:\n",
        "    display_cols.append(col_map['patient_id'])\n",
        "display_cols += ['prediction_score','prediction_label']\n",
        "print(\"\\n📋 Top 10 patients by risk:\")\n",
        "print(preds_sorted[display_cols].head(10).to_string(index=False))\n",
        "\n",
        "# 13. Save final model\n",
        "save_model(final, 'cyst_predictor_model')\n",
        "print(\"✅ Model saved: cyst_predictor_model.pkl\")"
      ]
    },
    {
      "cell_type": "markdown",
      "metadata": {
        "id": "92307b65"
      },
      "source": [
        "# Task\n",
        "Add functionality to generate a PDF report of the analysis results, specifically including the top 10 patients by risk, and provide a way to download this PDF."
      ]
    },
    {
      "cell_type": "markdown",
      "metadata": {
        "id": "bad08b09"
      },
      "source": [
        "## Install necessary libraries\n",
        "\n",
        "### Subtask:\n",
        "Install libraries for generating PDFs and potentially for better formatting (e.g., `reportlab`, `pandas_to_latex`, `xhtml2pdf`).\n"
      ]
    },
    {
      "cell_type": "markdown",
      "metadata": {
        "id": "e5f19eb8"
      },
      "source": [
        "**Reasoning**:\n",
        "The subtask is to install the necessary libraries for PDF generation. This can be done using pip in a code block.\n",
        "\n"
      ]
    },
    {
      "cell_type": "code",
      "metadata": {
        "colab": {
          "base_uri": "https://localhost:8080/"
        },
        "id": "2b9d8f08",
        "outputId": "5d15524a-3172-40dd-ce61-ebc367580090"
      },
      "source": [
        "!pip install reportlab xhtml2pdf pandas_to_latex -q"
      ],
      "execution_count": 11,
      "outputs": [
        {
          "output_type": "stream",
          "name": "stdout",
          "text": [
            "\u001b[31mERROR: Could not find a version that satisfies the requirement pandas_to_latex (from versions: none)\u001b[0m\u001b[31m\n",
            "\u001b[0m\u001b[31mERROR: No matching distribution found for pandas_to_latex\u001b[0m\u001b[31m\n",
            "\u001b[0m"
          ]
        }
      ]
    },
    {
      "cell_type": "markdown",
      "metadata": {
        "id": "06c003d9"
      },
      "source": [
        "**Reasoning**:\n",
        "The installation of `pandas_to_latex` failed. I will try installing the remaining libraries that succeeded and then finish the task as the subtask cannot be fully completed as originally planned.\n",
        "\n"
      ]
    },
    {
      "cell_type": "code",
      "metadata": {
        "colab": {
          "base_uri": "https://localhost:8080/"
        },
        "id": "c5b562af",
        "outputId": "386c4c40-f6b2-4839-b2e3-a7b7e6c49c8c"
      },
      "source": [
        "!pip install reportlab xhtml2pdf -q"
      ],
      "execution_count": 12,
      "outputs": [
        {
          "output_type": "stream",
          "name": "stdout",
          "text": [
            "\u001b[?25l     \u001b[90m━━━━━━━━━━━━━━━━━━━━━━━━━━━━━━━━━━━━━━━━\u001b[0m \u001b[32m0.0/913.9 kB\u001b[0m \u001b[31m?\u001b[0m eta \u001b[36m-:--:--\u001b[0m\r\u001b[2K     \u001b[90m━━━━━━━━━━━━━━━━━━━━━━━━━━━━━━━━━━━━━━\u001b[0m \u001b[32m913.9/913.9 kB\u001b[0m \u001b[31m32.3 MB/s\u001b[0m eta \u001b[36m0:00:00\u001b[0m\n",
            "\u001b[?25h  Preparing metadata (setup.py) ... \u001b[?25l\u001b[?25hdone\n",
            "\u001b[2K   \u001b[90m━━━━━━━━━━━━━━━━━━━━━━━━━━━━━━━━━━━━━━━━\u001b[0m \u001b[32m2.0/2.0 MB\u001b[0m \u001b[31m64.3 MB/s\u001b[0m eta \u001b[36m0:00:00\u001b[0m\n",
            "\u001b[?25h\u001b[33m  DEPRECATION: Building 'svglib' using the legacy setup.py bdist_wheel mechanism, which will be removed in a future version. pip 25.3 will enforce this behaviour change. A possible replacement is to use the standardized build interface by setting the `--use-pep517` option, (possibly combined with `--no-build-isolation`), or adding a `pyproject.toml` file to the source tree of 'svglib'. Discussion can be found at https://github.com/pypa/pip/issues/6334\u001b[0m\u001b[33m\n",
            "\u001b[0m  Building wheel for svglib (setup.py) ... \u001b[?25l\u001b[?25hdone\n",
            "\u001b[2K   \u001b[90m━━━━━━━━━━━━━━━━━━━━━━━━━━━━━━━━━━━━━━━━\u001b[0m \u001b[32m12/12\u001b[0m [xhtml2pdf]\n",
            "\u001b[1A\u001b[2K"
          ]
        }
      ]
    },
    {
      "cell_type": "markdown",
      "metadata": {
        "id": "bd9ba8fd"
      },
      "source": [
        "## Format the output\n",
        "\n",
        "### Subtask:\n",
        "Prepare the relevant data (like the top 10 patients by risk) in a structured format suitable for a report. This might involve creating tables or well-formatted text.\n"
      ]
    },
    {
      "cell_type": "markdown",
      "metadata": {
        "id": "b69477e2"
      },
      "source": [
        "**Reasoning**:\n",
        "Prepare the data for the report by selecting the necessary columns, formatting the prediction score, and converting it to an HTML table.\n",
        "\n"
      ]
    },
    {
      "cell_type": "code",
      "metadata": {
        "colab": {
          "base_uri": "https://localhost:8080/"
        },
        "id": "0f3c775c",
        "outputId": "a34082e3-60fb-42aa-eed2-3f8ca6b01a89"
      },
      "source": [
        "report_data = preds_sorted[['Patient ID', 'prediction_score', 'prediction_label']].head(10).copy()\n",
        "report_data['prediction_score'] = report_data['prediction_score'].map('{:.4f}'.format)\n",
        "\n",
        "# Convert the dataframe to an HTML table string\n",
        "report_html_table = report_data.to_html(index=False)\n",
        "print(report_html_table)"
      ],
      "execution_count": 13,
      "outputs": [
        {
          "output_type": "stream",
          "name": "stdout",
          "text": [
            "<table border=\"1\" class=\"dataframe\">\n",
            "  <thead>\n",
            "    <tr style=\"text-align: right;\">\n",
            "      <th>Patient ID</th>\n",
            "      <th>prediction_score</th>\n",
            "      <th>prediction_label</th>\n",
            "    </tr>\n",
            "  </thead>\n",
            "  <tbody>\n",
            "    <tr>\n",
            "      <td>OC-1090</td>\n",
            "      <td>0.2817</td>\n",
            "      <td>Observation</td>\n",
            "    </tr>\n",
            "    <tr>\n",
            "      <td>OC-1098</td>\n",
            "      <td>0.2817</td>\n",
            "      <td>Observation</td>\n",
            "    </tr>\n",
            "    <tr>\n",
            "      <td>OC-1086</td>\n",
            "      <td>0.2817</td>\n",
            "      <td>Observation</td>\n",
            "    </tr>\n",
            "    <tr>\n",
            "      <td>OC-1044</td>\n",
            "      <td>0.2817</td>\n",
            "      <td>Observation</td>\n",
            "    </tr>\n",
            "    <tr>\n",
            "      <td>OC-1048</td>\n",
            "      <td>0.2817</td>\n",
            "      <td>Observation</td>\n",
            "    </tr>\n",
            "    <tr>\n",
            "      <td>OC-1065</td>\n",
            "      <td>0.2817</td>\n",
            "      <td>Observation</td>\n",
            "    </tr>\n",
            "    <tr>\n",
            "      <td>OC-1061</td>\n",
            "      <td>0.2817</td>\n",
            "      <td>Observation</td>\n",
            "    </tr>\n",
            "    <tr>\n",
            "      <td>OC-1031</td>\n",
            "      <td>0.2817</td>\n",
            "      <td>Observation</td>\n",
            "    </tr>\n",
            "    <tr>\n",
            "      <td>OC-1079</td>\n",
            "      <td>0.2817</td>\n",
            "      <td>Observation</td>\n",
            "    </tr>\n",
            "    <tr>\n",
            "      <td>OC-1070</td>\n",
            "      <td>0.2817</td>\n",
            "      <td>Observation</td>\n",
            "    </tr>\n",
            "  </tbody>\n",
            "</table>\n"
          ]
        }
      ]
    },
    {
      "cell_type": "markdown",
      "metadata": {
        "id": "78d623e3"
      },
      "source": [
        "## Generate the pdf\n",
        "\n",
        "### Subtask:\n",
        "Use the installed libraries to generate a PDF document containing the formatted results.\n"
      ]
    },
    {
      "cell_type": "markdown",
      "metadata": {
        "id": "4b0f13bf"
      },
      "source": [
        "**Reasoning**:\n",
        "Create an HTML string for the report, define the output filename, and use xhtml2pdf to generate the PDF from the HTML string.\n",
        "\n"
      ]
    },
    {
      "cell_type": "code",
      "metadata": {
        "colab": {
          "base_uri": "https://localhost:8080/"
        },
        "id": "a74689cf",
        "outputId": "c0ee8a17-8626-407f-8488-148aa49160cc"
      },
      "source": [
        "from xhtml2pdf import pisa\n",
        "\n",
        "# 1. Create an HTML string\n",
        "report_html = f\"\"\"\n",
        "<html>\n",
        "<head>\n",
        "    <title>Ovarian Cyst Risk Report</title>\n",
        "</head>\n",
        "<body>\n",
        "    <h1>Ovarian Cyst Risk Report</h1>\n",
        "    <h2>Top 10 Patients by Risk</h2>\n",
        "    {report_html_table}\n",
        "</body>\n",
        "</html>\n",
        "\"\"\"\n",
        "\n",
        "# 2. Define the output filename\n",
        "output_filename = 'cyst_risk_report.pdf'\n",
        "\n",
        "# 3. Open the output file in write-binary mode\n",
        "# 4. Use pisa.CreatePDF to convert the HTML string to a PDF\n",
        "# 5. Close the output file\n",
        "try:\n",
        "    with open(output_filename, \"w+b\") as result_file:\n",
        "        pisa_status = pisa.CreatePDF(\n",
        "            report_html,\n",
        "            dest=result_file\n",
        "        )\n",
        "    if pisa_status.err:\n",
        "        print(\"PDF generation failed.\")\n",
        "    else:\n",
        "        print(f\"✅ PDF report generated: {output_filename}\")\n",
        "except Exception as e:\n",
        "    print(f\"An error occurred during PDF generation: {e}\")\n"
      ],
      "execution_count": 14,
      "outputs": [
        {
          "output_type": "stream",
          "name": "stdout",
          "text": [
            "✅ PDF report generated: cyst_risk_report.pdf\n"
          ]
        }
      ]
    },
    {
      "cell_type": "markdown",
      "metadata": {
        "id": "68963bc7"
      },
      "source": [
        "**Reasoning**:\n",
        "The PDF report has been generated. The next step is to provide a way for the user to download this PDF file.\n",
        "\n"
      ]
    },
    {
      "cell_type": "code",
      "metadata": {
        "colab": {
          "base_uri": "https://localhost:8080/",
          "height": 17
        },
        "id": "60c6b1ba",
        "outputId": "79f5e189-59ef-4569-afde-fc2fb2cab509"
      },
      "source": [
        "from google.colab import files\n",
        "\n",
        "files.download(output_filename)"
      ],
      "execution_count": 15,
      "outputs": [
        {
          "output_type": "display_data",
          "data": {
            "text/plain": [
              "<IPython.core.display.Javascript object>"
            ],
            "application/javascript": [
              "\n",
              "    async function download(id, filename, size) {\n",
              "      if (!google.colab.kernel.accessAllowed) {\n",
              "        return;\n",
              "      }\n",
              "      const div = document.createElement('div');\n",
              "      const label = document.createElement('label');\n",
              "      label.textContent = `Downloading \"${filename}\": `;\n",
              "      div.appendChild(label);\n",
              "      const progress = document.createElement('progress');\n",
              "      progress.max = size;\n",
              "      div.appendChild(progress);\n",
              "      document.body.appendChild(div);\n",
              "\n",
              "      const buffers = [];\n",
              "      let downloaded = 0;\n",
              "\n",
              "      const channel = await google.colab.kernel.comms.open(id);\n",
              "      // Send a message to notify the kernel that we're ready.\n",
              "      channel.send({})\n",
              "\n",
              "      for await (const message of channel.messages) {\n",
              "        // Send a message to notify the kernel that we're ready.\n",
              "        channel.send({})\n",
              "        if (message.buffers) {\n",
              "          for (const buffer of message.buffers) {\n",
              "            buffers.push(buffer);\n",
              "            downloaded += buffer.byteLength;\n",
              "            progress.value = downloaded;\n",
              "          }\n",
              "        }\n",
              "      }\n",
              "      const blob = new Blob(buffers, {type: 'application/binary'});\n",
              "      const a = document.createElement('a');\n",
              "      a.href = window.URL.createObjectURL(blob);\n",
              "      a.download = filename;\n",
              "      div.appendChild(a);\n",
              "      a.click();\n",
              "      div.remove();\n",
              "    }\n",
              "  "
            ]
          },
          "metadata": {}
        },
        {
          "output_type": "display_data",
          "data": {
            "text/plain": [
              "<IPython.core.display.Javascript object>"
            ],
            "application/javascript": [
              "download(\"download_b3b0df48-bd79-451d-a187-2ad07db96a1b\", \"cyst_risk_report.pdf\", 3227)"
            ]
          },
          "metadata": {}
        }
      ]
    },
    {
      "cell_type": "markdown",
      "metadata": {
        "id": "1bb21059"
      },
      "source": [
        "## Summary:\n",
        "\n",
        "### Data Analysis Key Findings\n",
        "\n",
        "*   The necessary libraries `reportlab` and `xhtml2pdf` were successfully installed for PDF generation, although `pandas_to_latex` could not be found.\n",
        "*   The data for the top 10 patients by risk was successfully formatted into an HTML table, including 'Patient ID', 'prediction\\_score' (formatted to 4 decimal places), and 'prediction\\_label'.\n",
        "*   A PDF document titled 'cyst\\_risk\\_report.pdf' was successfully generated from the HTML content using `xhtml2pdf`.\n",
        "*   The generated PDF report was made available for download.\n",
        "\n",
        "### Insights or Next Steps\n",
        "\n",
        "*   Investigate alternative methods for converting Pandas DataFrames to LaTeX or explore why `pandas_to_latex` was not available if more complex table formatting is required in future reports.\n"
      ]
    }
  ],
  "metadata": {
    "colab": {
      "provenance": [],
      "authorship_tag": "ABX9TyObgLH8Jp8IpMblGiApAW+v",
      "include_colab_link": true
    },
    "kernelspec": {
      "display_name": "Python 3",
      "name": "python3"
    },
    "language_info": {
      "name": "python"
    },
    "widgets": {
      "application/vnd.jupyter.widget-state+json": {
        "0fff26e3d99d4894b5defe30cd2b0bf1": {
          "model_module": "@jupyter-widgets/controls",
          "model_name": "HBoxModel",
          "model_module_version": "1.5.0",
          "state": {
            "_dom_classes": [],
            "_model_module": "@jupyter-widgets/controls",
            "_model_module_version": "1.5.0",
            "_model_name": "HBoxModel",
            "_view_count": null,
            "_view_module": "@jupyter-widgets/controls",
            "_view_module_version": "1.5.0",
            "_view_name": "HBoxView",
            "box_style": "",
            "children": [
              "IPY_MODEL_9f459003d9e94d6a882cae9396215b90",
              "IPY_MODEL_428503b3db6e4716888919cffb0b07db",
              "IPY_MODEL_8510735e5e0d44a3bb049584ad6e46e4"
            ],
            "layout": "IPY_MODEL_d15a505e76b64aec871331538d290ffb"
          }
        },
        "9f459003d9e94d6a882cae9396215b90": {
          "model_module": "@jupyter-widgets/controls",
          "model_name": "HTMLModel",
          "model_module_version": "1.5.0",
          "state": {
            "_dom_classes": [],
            "_model_module": "@jupyter-widgets/controls",
            "_model_module_version": "1.5.0",
            "_model_name": "HTMLModel",
            "_view_count": null,
            "_view_module": "@jupyter-widgets/controls",
            "_view_module_version": "1.5.0",
            "_view_name": "HTMLView",
            "description": "",
            "description_tooltip": null,
            "layout": "IPY_MODEL_ed867e8471674f77bb74f7dc332e83ae",
            "placeholder": "​",
            "style": "IPY_MODEL_ba941cbf428b4b53af2815601ccea752",
            "value": "Processing: 100%"
          }
        },
        "428503b3db6e4716888919cffb0b07db": {
          "model_module": "@jupyter-widgets/controls",
          "model_name": "FloatProgressModel",
          "model_module_version": "1.5.0",
          "state": {
            "_dom_classes": [],
            "_model_module": "@jupyter-widgets/controls",
            "_model_module_version": "1.5.0",
            "_model_name": "FloatProgressModel",
            "_view_count": null,
            "_view_module": "@jupyter-widgets/controls",
            "_view_module_version": "1.5.0",
            "_view_name": "ProgressView",
            "bar_style": "",
            "description": "",
            "description_tooltip": null,
            "layout": "IPY_MODEL_8da3684bae084d158dcc1689a0246bdb",
            "max": 65,
            "min": 0,
            "orientation": "horizontal",
            "style": "IPY_MODEL_c7954a09daf94010b3baea2a92e10daa",
            "value": 65
          }
        },
        "8510735e5e0d44a3bb049584ad6e46e4": {
          "model_module": "@jupyter-widgets/controls",
          "model_name": "HTMLModel",
          "model_module_version": "1.5.0",
          "state": {
            "_dom_classes": [],
            "_model_module": "@jupyter-widgets/controls",
            "_model_module_version": "1.5.0",
            "_model_name": "HTMLModel",
            "_view_count": null,
            "_view_module": "@jupyter-widgets/controls",
            "_view_module_version": "1.5.0",
            "_view_name": "HTMLView",
            "description": "",
            "description_tooltip": null,
            "layout": "IPY_MODEL_9e4c91bf464c4ad6b32841008e4261df",
            "placeholder": "​",
            "style": "IPY_MODEL_32ca033074ad46f5a3e1f222404162f5",
            "value": " 65/65 [00:31&lt;00:00,  2.63it/s]"
          }
        },
        "d15a505e76b64aec871331538d290ffb": {
          "model_module": "@jupyter-widgets/base",
          "model_name": "LayoutModel",
          "model_module_version": "1.2.0",
          "state": {
            "_model_module": "@jupyter-widgets/base",
            "_model_module_version": "1.2.0",
            "_model_name": "LayoutModel",
            "_view_count": null,
            "_view_module": "@jupyter-widgets/base",
            "_view_module_version": "1.2.0",
            "_view_name": "LayoutView",
            "align_content": null,
            "align_items": null,
            "align_self": null,
            "border": null,
            "bottom": null,
            "display": null,
            "flex": null,
            "flex_flow": null,
            "grid_area": null,
            "grid_auto_columns": null,
            "grid_auto_flow": null,
            "grid_auto_rows": null,
            "grid_column": null,
            "grid_gap": null,
            "grid_row": null,
            "grid_template_areas": null,
            "grid_template_columns": null,
            "grid_template_rows": null,
            "height": null,
            "justify_content": null,
            "justify_items": null,
            "left": null,
            "margin": null,
            "max_height": null,
            "max_width": null,
            "min_height": null,
            "min_width": null,
            "object_fit": null,
            "object_position": null,
            "order": null,
            "overflow": null,
            "overflow_x": null,
            "overflow_y": null,
            "padding": null,
            "right": null,
            "top": null,
            "visibility": "hidden",
            "width": null
          }
        },
        "ed867e8471674f77bb74f7dc332e83ae": {
          "model_module": "@jupyter-widgets/base",
          "model_name": "LayoutModel",
          "model_module_version": "1.2.0",
          "state": {
            "_model_module": "@jupyter-widgets/base",
            "_model_module_version": "1.2.0",
            "_model_name": "LayoutModel",
            "_view_count": null,
            "_view_module": "@jupyter-widgets/base",
            "_view_module_version": "1.2.0",
            "_view_name": "LayoutView",
            "align_content": null,
            "align_items": null,
            "align_self": null,
            "border": null,
            "bottom": null,
            "display": null,
            "flex": null,
            "flex_flow": null,
            "grid_area": null,
            "grid_auto_columns": null,
            "grid_auto_flow": null,
            "grid_auto_rows": null,
            "grid_column": null,
            "grid_gap": null,
            "grid_row": null,
            "grid_template_areas": null,
            "grid_template_columns": null,
            "grid_template_rows": null,
            "height": null,
            "justify_content": null,
            "justify_items": null,
            "left": null,
            "margin": null,
            "max_height": null,
            "max_width": null,
            "min_height": null,
            "min_width": null,
            "object_fit": null,
            "object_position": null,
            "order": null,
            "overflow": null,
            "overflow_x": null,
            "overflow_y": null,
            "padding": null,
            "right": null,
            "top": null,
            "visibility": null,
            "width": null
          }
        },
        "ba941cbf428b4b53af2815601ccea752": {
          "model_module": "@jupyter-widgets/controls",
          "model_name": "DescriptionStyleModel",
          "model_module_version": "1.5.0",
          "state": {
            "_model_module": "@jupyter-widgets/controls",
            "_model_module_version": "1.5.0",
            "_model_name": "DescriptionStyleModel",
            "_view_count": null,
            "_view_module": "@jupyter-widgets/base",
            "_view_module_version": "1.2.0",
            "_view_name": "StyleView",
            "description_width": ""
          }
        },
        "8da3684bae084d158dcc1689a0246bdb": {
          "model_module": "@jupyter-widgets/base",
          "model_name": "LayoutModel",
          "model_module_version": "1.2.0",
          "state": {
            "_model_module": "@jupyter-widgets/base",
            "_model_module_version": "1.2.0",
            "_model_name": "LayoutModel",
            "_view_count": null,
            "_view_module": "@jupyter-widgets/base",
            "_view_module_version": "1.2.0",
            "_view_name": "LayoutView",
            "align_content": null,
            "align_items": null,
            "align_self": null,
            "border": null,
            "bottom": null,
            "display": null,
            "flex": null,
            "flex_flow": null,
            "grid_area": null,
            "grid_auto_columns": null,
            "grid_auto_flow": null,
            "grid_auto_rows": null,
            "grid_column": null,
            "grid_gap": null,
            "grid_row": null,
            "grid_template_areas": null,
            "grid_template_columns": null,
            "grid_template_rows": null,
            "height": null,
            "justify_content": null,
            "justify_items": null,
            "left": null,
            "margin": null,
            "max_height": null,
            "max_width": null,
            "min_height": null,
            "min_width": null,
            "object_fit": null,
            "object_position": null,
            "order": null,
            "overflow": null,
            "overflow_x": null,
            "overflow_y": null,
            "padding": null,
            "right": null,
            "top": null,
            "visibility": null,
            "width": null
          }
        },
        "c7954a09daf94010b3baea2a92e10daa": {
          "model_module": "@jupyter-widgets/controls",
          "model_name": "ProgressStyleModel",
          "model_module_version": "1.5.0",
          "state": {
            "_model_module": "@jupyter-widgets/controls",
            "_model_module_version": "1.5.0",
            "_model_name": "ProgressStyleModel",
            "_view_count": null,
            "_view_module": "@jupyter-widgets/base",
            "_view_module_version": "1.2.0",
            "_view_name": "StyleView",
            "bar_color": null,
            "description_width": ""
          }
        },
        "9e4c91bf464c4ad6b32841008e4261df": {
          "model_module": "@jupyter-widgets/base",
          "model_name": "LayoutModel",
          "model_module_version": "1.2.0",
          "state": {
            "_model_module": "@jupyter-widgets/base",
            "_model_module_version": "1.2.0",
            "_model_name": "LayoutModel",
            "_view_count": null,
            "_view_module": "@jupyter-widgets/base",
            "_view_module_version": "1.2.0",
            "_view_name": "LayoutView",
            "align_content": null,
            "align_items": null,
            "align_self": null,
            "border": null,
            "bottom": null,
            "display": null,
            "flex": null,
            "flex_flow": null,
            "grid_area": null,
            "grid_auto_columns": null,
            "grid_auto_flow": null,
            "grid_auto_rows": null,
            "grid_column": null,
            "grid_gap": null,
            "grid_row": null,
            "grid_template_areas": null,
            "grid_template_columns": null,
            "grid_template_rows": null,
            "height": null,
            "justify_content": null,
            "justify_items": null,
            "left": null,
            "margin": null,
            "max_height": null,
            "max_width": null,
            "min_height": null,
            "min_width": null,
            "object_fit": null,
            "object_position": null,
            "order": null,
            "overflow": null,
            "overflow_x": null,
            "overflow_y": null,
            "padding": null,
            "right": null,
            "top": null,
            "visibility": null,
            "width": null
          }
        },
        "32ca033074ad46f5a3e1f222404162f5": {
          "model_module": "@jupyter-widgets/controls",
          "model_name": "DescriptionStyleModel",
          "model_module_version": "1.5.0",
          "state": {
            "_model_module": "@jupyter-widgets/controls",
            "_model_module_version": "1.5.0",
            "_model_name": "DescriptionStyleModel",
            "_view_count": null,
            "_view_module": "@jupyter-widgets/base",
            "_view_module_version": "1.2.0",
            "_view_name": "StyleView",
            "description_width": ""
          }
        },
        "d41cdd55b08c4a63874eedc8ba68d6b0": {
          "model_module": "@jupyter-widgets/base",
          "model_name": "LayoutModel",
          "model_module_version": "1.2.0",
          "state": {
            "_model_module": "@jupyter-widgets/base",
            "_model_module_version": "1.2.0",
            "_model_name": "LayoutModel",
            "_view_count": null,
            "_view_module": "@jupyter-widgets/base",
            "_view_module_version": "1.2.0",
            "_view_name": "LayoutView",
            "align_content": null,
            "align_items": null,
            "align_self": null,
            "border": null,
            "bottom": null,
            "display": null,
            "flex": null,
            "flex_flow": null,
            "grid_area": null,
            "grid_auto_columns": null,
            "grid_auto_flow": null,
            "grid_auto_rows": null,
            "grid_column": null,
            "grid_gap": null,
            "grid_row": null,
            "grid_template_areas": null,
            "grid_template_columns": null,
            "grid_template_rows": null,
            "height": null,
            "justify_content": null,
            "justify_items": null,
            "left": null,
            "margin": null,
            "max_height": null,
            "max_width": null,
            "min_height": null,
            "min_width": null,
            "object_fit": null,
            "object_position": null,
            "order": null,
            "overflow": null,
            "overflow_x": null,
            "overflow_y": null,
            "padding": null,
            "right": null,
            "top": null,
            "visibility": null,
            "width": null
          }
        },
        "4c5e1ae08730450286b93a21072e9b8d": {
          "model_module": "@jupyter-widgets/controls",
          "model_name": "ToggleButtonsStyleModel",
          "model_module_version": "1.5.0",
          "state": {
            "_model_module": "@jupyter-widgets/controls",
            "_model_module_version": "1.5.0",
            "_model_name": "ToggleButtonsStyleModel",
            "_view_count": null,
            "_view_module": "@jupyter-widgets/base",
            "_view_module_version": "1.2.0",
            "_view_name": "StyleView",
            "button_width": "",
            "description_width": "",
            "font_weight": ""
          }
        },
        "2ad64e20e0d84bb999609478885a7a4a": {
          "model_module": "@jupyter-widgets/base",
          "model_name": "LayoutModel",
          "model_module_version": "1.2.0",
          "state": {
            "_model_module": "@jupyter-widgets/base",
            "_model_module_version": "1.2.0",
            "_model_name": "LayoutModel",
            "_view_count": null,
            "_view_module": "@jupyter-widgets/base",
            "_view_module_version": "1.2.0",
            "_view_name": "LayoutView",
            "align_content": null,
            "align_items": null,
            "align_self": null,
            "border": null,
            "bottom": null,
            "display": null,
            "flex": null,
            "flex_flow": null,
            "grid_area": null,
            "grid_auto_columns": null,
            "grid_auto_flow": null,
            "grid_auto_rows": null,
            "grid_column": null,
            "grid_gap": null,
            "grid_row": null,
            "grid_template_areas": null,
            "grid_template_columns": null,
            "grid_template_rows": null,
            "height": null,
            "justify_content": null,
            "justify_items": null,
            "left": null,
            "margin": null,
            "max_height": null,
            "max_width": null,
            "min_height": null,
            "min_width": null,
            "object_fit": null,
            "object_position": null,
            "order": null,
            "overflow": null,
            "overflow_x": null,
            "overflow_y": null,
            "padding": null,
            "right": null,
            "top": null,
            "visibility": null,
            "width": null
          }
        },
        "084755db0a4844679e9f683dc9dd4f3f": {
          "model_module": "@jupyter-widgets/base",
          "model_name": "LayoutModel",
          "model_module_version": "1.2.0",
          "state": {
            "_model_module": "@jupyter-widgets/base",
            "_model_module_version": "1.2.0",
            "_model_name": "LayoutModel",
            "_view_count": null,
            "_view_module": "@jupyter-widgets/base",
            "_view_module_version": "1.2.0",
            "_view_name": "LayoutView",
            "align_content": null,
            "align_items": null,
            "align_self": null,
            "border": null,
            "bottom": null,
            "display": null,
            "flex": null,
            "flex_flow": null,
            "grid_area": null,
            "grid_auto_columns": null,
            "grid_auto_flow": null,
            "grid_auto_rows": null,
            "grid_column": null,
            "grid_gap": null,
            "grid_row": null,
            "grid_template_areas": null,
            "grid_template_columns": null,
            "grid_template_rows": null,
            "height": null,
            "justify_content": null,
            "justify_items": null,
            "left": null,
            "margin": null,
            "max_height": null,
            "max_width": null,
            "min_height": null,
            "min_width": null,
            "object_fit": null,
            "object_position": null,
            "order": null,
            "overflow": null,
            "overflow_x": null,
            "overflow_y": null,
            "padding": null,
            "right": null,
            "top": null,
            "visibility": null,
            "width": null
          }
        },
        "acb995b9e914469b8d64b0fb32000676": {
          "model_module": "@jupyter-widgets/controls",
          "model_name": "ToggleButtonsModel",
          "model_module_version": "1.5.0",
          "state": {
            "_dom_classes": [],
            "_model_module": "@jupyter-widgets/controls",
            "_model_module_version": "1.5.0",
            "_model_name": "ToggleButtonsModel",
            "_options_labels": [
              "Pipeline Plot",
              "Hyperparameters",
              "AUC",
              "Confusion Matrix",
              "Threshold",
              "Precision Recall",
              "Prediction Error",
              "Class Report",
              "Feature Selection",
              "Learning Curve",
              "Manifold Learning",
              "Calibration Curve",
              "Validation Curve",
              "Dimensions",
              "Feature Importance",
              "Feature Importance (All)",
              "Decision Boundary",
              "Lift Chart",
              "Gain Chart",
              "Decision Tree",
              "KS Statistic Plot"
            ],
            "_view_count": null,
            "_view_module": "@jupyter-widgets/controls",
            "_view_module_version": "1.5.0",
            "_view_name": "ToggleButtonsView",
            "button_style": "",
            "description": "Plot Type:",
            "description_tooltip": null,
            "disabled": false,
            "icons": [
              ""
            ],
            "index": 0,
            "layout": "IPY_MODEL_d41cdd55b08c4a63874eedc8ba68d6b0",
            "style": "IPY_MODEL_4c5e1ae08730450286b93a21072e9b8d",
            "tooltips": []
          }
        },
        "8f532164b259481fafc8c1ac303a41be": {
          "model_module": "@jupyter-widgets/output",
          "model_name": "OutputModel",
          "model_module_version": "1.0.0",
          "state": {
            "_dom_classes": [],
            "_model_module": "@jupyter-widgets/output",
            "_model_module_version": "1.0.0",
            "_model_name": "OutputModel",
            "_view_count": null,
            "_view_module": "@jupyter-widgets/output",
            "_view_module_version": "1.0.0",
            "_view_name": "OutputView",
            "layout": "IPY_MODEL_084755db0a4844679e9f683dc9dd4f3f",
            "msg_id": "",
            "outputs": [
              {
                "output_type": "display_data",
                "data": {
                  "text/plain": "<Figure size 3200x600 with 1 Axes>",
                  "image/png": "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\n"
                },
                "metadata": {}
              }
            ]
          }
        },
        "cefad2c98cc9412b9c14f6c727f74dfc": {
          "model_module": "@jupyter-widgets/controls",
          "model_name": "VBoxModel",
          "model_module_version": "1.5.0",
          "state": {
            "_dom_classes": [
              "widget-interact"
            ],
            "_model_module": "@jupyter-widgets/controls",
            "_model_module_version": "1.5.0",
            "_model_name": "VBoxModel",
            "_view_count": null,
            "_view_module": "@jupyter-widgets/controls",
            "_view_module_version": "1.5.0",
            "_view_name": "VBoxView",
            "box_style": "",
            "children": [
              "IPY_MODEL_acb995b9e914469b8d64b0fb32000676",
              "IPY_MODEL_8f532164b259481fafc8c1ac303a41be"
            ],
            "layout": "IPY_MODEL_2ad64e20e0d84bb999609478885a7a4a"
          }
        }
      }
    }
  },
  "nbformat": 4,
  "nbformat_minor": 0
}